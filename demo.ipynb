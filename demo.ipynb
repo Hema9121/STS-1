{
 "cells": [
  {
   "cell_type": "code",
   "execution_count": 1,
   "metadata": {},
   "outputs": [
    {
     "name": "stdout",
     "output_type": "stream",
     "text": [
      "WARNING:tensorflow:From c:\\Users\\dshem\\OneDrive\\Desktop\\STS\\STS-1\\venv\\Lib\\site-packages\\tf_keras\\src\\losses.py:2976: The name tf.losses.sparse_softmax_cross_entropy is deprecated. Please use tf.compat.v1.losses.sparse_softmax_cross_entropy instead.\n",
      "\n"
     ]
    }
   ],
   "source": [
    "import pandas as pd\n",
    "import tensorflow as tf\n",
    "import tensorflow_hub as hub\n",
    "\n",
    "from numpy import dot\n",
    "from numpy.linalg import norm"
   ]
  },
  {
   "cell_type": "code",
   "execution_count": 2,
   "metadata": {},
   "outputs": [
    {
     "name": "stdout",
     "output_type": "stream",
     "text": [
      "WARNING:tensorflow:From c:\\Users\\dshem\\OneDrive\\Desktop\\STS\\STS-1\\venv\\Lib\\site-packages\\tensorflow_hub\\resolver.py:120: The name tf.gfile.MakeDirs is deprecated. Please use tf.io.gfile.makedirs instead.\n",
      "\n"
     ]
    },
    {
     "name": "stderr",
     "output_type": "stream",
     "text": [
      "WARNING:tensorflow:From c:\\Users\\dshem\\OneDrive\\Desktop\\STS\\STS-1\\venv\\Lib\\site-packages\\tensorflow_hub\\resolver.py:120: The name tf.gfile.MakeDirs is deprecated. Please use tf.io.gfile.makedirs instead.\n",
      "\n"
     ]
    },
    {
     "name": "stdout",
     "output_type": "stream",
     "text": [
      "WARNING:tensorflow:From c:\\Users\\dshem\\OneDrive\\Desktop\\STS\\STS-1\\venv\\Lib\\site-packages\\tensorflow_hub\\module_v2.py:126: The name tf.saved_model.load_v2 is deprecated. Please use tf.compat.v2.saved_model.load instead.\n",
      "\n"
     ]
    },
    {
     "name": "stderr",
     "output_type": "stream",
     "text": [
      "WARNING:tensorflow:From c:\\Users\\dshem\\OneDrive\\Desktop\\STS\\STS-1\\venv\\Lib\\site-packages\\tensorflow_hub\\module_v2.py:126: The name tf.saved_model.load_v2 is deprecated. Please use tf.compat.v2.saved_model.load instead.\n",
      "\n"
     ]
    }
   ],
   "source": [
    "import numpy as np\n",
    "module_url = \"https://www.kaggle.com/models/google/universal-sentence-encoder/TensorFlow2/universal-sentence-encoder/2\"\n",
    "model = hub.load(module_url)\n",
    "def embed(input):\n",
    "  return model(input)"
   ]
  },
  {
   "cell_type": "code",
   "execution_count": 3,
   "metadata": {},
   "outputs": [
    {
     "data": {
      "text/plain": [
       "<tensorflow.python.saved_model.load.Loader._recreate_base_user_object.<locals>._UserObject at 0x1f247bc6010>"
      ]
     },
     "execution_count": 3,
     "metadata": {},
     "output_type": "execute_result"
    }
   ],
   "source": [
    "model"
   ]
  },
  {
   "cell_type": "code",
   "execution_count": 4,
   "metadata": {},
   "outputs": [
    {
     "data": {
      "text/plain": [
       "<tf.Tensor: shape=(2, 512), dtype=float32, numpy=\n",
       "array([[-0.02720232,  0.00681642, -0.03939367, ..., -0.03903357,\n",
       "        -0.05795865, -0.05810072],\n",
       "       [-0.05569994, -0.0564485 , -0.056383  , ...,  0.04282599,\n",
       "        -0.05645383, -0.05647698]], dtype=float32)>"
      ]
     },
     "execution_count": 4,
     "metadata": {},
     "output_type": "execute_result"
    }
   ],
   "source": [
    "embed(['broadband challenges tv viewing the number of europeans with broadband has exploded over the past 12 months  with the web eating into tv viewing habits  research suggests.  just over 54 million people are hooked up to the net via broadband  up from 34 million a year ago  according to market analysts nielsen/netratings. the total number of people online in europe has broken the 100 million mark. the popularity of the net has meant that many are turning away from tv  say analysts jupiter research. it found that a quarter of web users said they spent less time watching tv in favour of the net  the report by nielsen/netratings found that the number of people with fast internet access had risen by 60% over the past year.  the biggest jump was in italy  where it rose by 120%. britain was close behind  with broadband users almost doubling in a year. the growth has been fuelled by lower prices and a wider choice of always-on  fast-net subscription plans.  twelve months ago high speed internet users made up just over one third of the audience in europe; now they are more than 50% and we expect this number to keep growing   said gabrielle prior  nielsen/netratings analyst.  as the number of high-speed surfers grows  websites will need to adapt  update and enhance their content to retain their visitors and encourage new ones.  the total number of europeans online rose by 12% to 100 million over the past year  the report showed  with the biggest rise in france  italy  britain and germany.  the ability to browse web pages at high speed  download files such as music or films and play online games is changing what people do in their spare time.  a study by analysts jupiter research suggested that broadband was challenging television viewing habits. in homes with broadband  40% said they were spending less time watching tv. the threat to tv was greatest in countries where broadband was on the up  in particular the uk  france and spain  said the report. it said tv companies faced a major long-term threat over the next five years  with broadband predicted to grow from 19% to 37% of households by 2009.  year-on-year we are continuing to see a seismic shift in where  when and how europe s population consume media for information and entertainment and this has big implications for tv  newspaper and radio   said jupiter research analyst olivier beauvillian.',\n",
    " 'gardener wins double in glasgow britain s jason gardener enjoyed a double 60m success in glasgow in his first competitive outing since he won 100m relay gold at the athens olympics.  gardener cruised home ahead of scot nick smith to win the invitational race at the norwich union international. he then recovered from a poor start in the second race to beat swede daniel persson and italy s luca verdecchia. his times of 6.61 and 6.62 seconds were well short of american maurice greene s 60m world record of 6.39secs from 1998.  it s a very hard record to break  but i believe i ve trained very well   said the world indoor champion  who hopes to get closer to the mark this season.  it was important to come out and make sure i got maximum points. my last race was the olympic final and there was a lot of expectation.  this was just what i needed to sharpen up and get some race fitness. i m very excited about the next couple of months.   double olympic champion  marked her first appearance on home soil since winning 1500m and 800m gold in athens with a victory. there was a third success for britain when  edged out russia s olga fedorova and sweden s jenny kallur to win the women s 60m race in 7.23secs. maduaka was unable to repeat the feat in the 200m  finishing down in fourth as  took the win for russia. and the 31-year-old also missed out on a podium place in the 4x200m relay as the british quartet came in fourth  with russia setting a new world indoor record. there was a setback for jade johnson as she suffered a recurrence of her back injury in the long jump. russia won the meeting with a final total of 63 points  with britain second on 48 and france one point behind in third.  led the way for russia by producing a major shock in the high jump as he beat olympic champion stefan holm into second place to end the swede s 22-event unbeaten record.  won the triple jump with a leap of 16.87m  with britain s tosin oke fourth in 15.80m.  won the men s pole vault competition with a clearance of 5.65m  with britain s nick buckfield 51cm adrift of his personal best in third. and  won the women s 800m  with britain s jenny meadows third. there was yet another russian victory in the women s 400m as  finished well clear of britain s catherine murphy. chris lambert had to settle for fourth after fading in the closing stages of the men s 200m race as sweden s  held off leslie djhone of france. france s  won the men s 400m  with brett rund fourth for britain.  took victory for sweden in the women s 60m hurdles ahead of russia s irina shevchenko and britain s sarah claxton  who set a new personal best. italy grabbed their first victory in the men s 1500m as  kicked over the last 200 metres to hold off britain s james thie and france s alexis abraham. a botched changeover in the 4x200m relay cost britain s men the chance to add further points as france claimed victory.'])"
   ]
  },
  {
   "cell_type": "code",
   "execution_count": 92,
   "metadata": {},
   "outputs": [],
   "source": [
    "message=['hearts of oak 3-2 cotonsport hearts of oak set up an all ghanaian confederation cup final with a 3-2 win over cameroon s cotonsport garoua in accra on sunday.  the win for hearts means they will play asante kotoko in the two-leg final  after the kumasi team qualified from group a on saturday. in the other group b game cameroon s  beat  of south africa 3-2 in douala  neither side could have qualified for the final. hearts of oak started the game needing a win to qualify for the final while cotonsport only needed to avoid defeat to go through. louis agyemang scored the first two goals for hearts either side of half time before ben don bortey scored the third. hearts looked set for a comfortable win but cotonsport staged a late fight back scoring twice late on. first of all boukar makaji scored in the 89th minute and then 3 minutes into injury time at the end of the game andre nzame iii was on target. but it was too little too late for the cameroonians and hearts held on to win the game and a place in the final. the first leg of the final will be played in accra on the weekend of 27-28 november and the second leg two weeks later on the 11 december in kumasi. in the other group b game cameroon s sable batie took the lead in the 35th minute through kemadjou before santos equalised on the hour mark thanks to thokozani xaba . bernard ngom put sable ahead just five minutes later and then ernest nfor settled the game on 68 minutes. ruben cloete scored the south african sides consolation with just three minutes left on the clock.'\n",
    ",'redford s vision of sundance despite sporting a corduroy cap pulled low over his face plus a pair of dark glasses  robert redford cuts an unmistakable figure through the star-struck crowds at sundance.  it s a rare downtown appearance for the man who started the annual festival in park city  utah back in the 1980s. now in its twenty-first year  sundance continues to grow. some 45 000 people are estimated to have descended on this small ski town with nothing but movies on the mind. it s an opportunity to meet and make deals. redford wanted sundance to be a platform for independent film-makers  but the commercial success of many showcased films have led to criticism that the festival is becoming too mainstream.  smaller festivals like slamdance and xdance  which take place during the same week in park city  are competing for sundance s limelight. but redford is not worried.  the more the merrier   he says.  the point was to create opportunities for people who may not have them.  once independent film had a place where the work could be seen  suddenly the merchants came. with them the celebrities came  then the paparazzi - and suddenly it began to take on a whole new tone   explains redford.   people started to say we had gone mainstream and hollywood  but actually hollywood came to us because suddenly there was good business in independent film   he adds. international film-makers have always been celebrated here  but 2005 is the first year a dedicated world dramatic and documentary competition is being held.  redford wants the festival to encompass viewpoints he believes the american media fails to reflect  particularly how the us is perceived internationally. he has never hidden the fact that he is a democrat. but he reserves particular disdain for the current republican administration.  it s the ability to maintain the importance of dissent in a democratic system which right now is under threat with the attitude of this administration   he says.  i think many voices are being shut down or accused of being unpatriotic if they want to express another point of view. that s very unhealthy and very dangerous.   if we take that policy into the world  there will be the same victims and the same consequences.  sundance isn t just one big screening. there are discussion panels and q&a sessions with directors tackling controversial topics like america s  culture wars  and the iraq war. while redford wishes the festival to be a forum for dissent  the profile of the audience is fairly monolithic. educated  middle class and predominantly white americans comes sundance  with views from the same end of the political spectrum - anti-war and socially liberal. but redford knows this and started the sundance tv channel in an effort to reach a wider audience.  when you look at the films here  what we are presenting is very much egalitarian. and it s about good films and good story-telling be it african america  asian  women  gay  lesbian.  sooner or later we will do away with those stereotypical labels and people will say  it s just a film by so-and so .'\n",
    "]"
   ]
  },
  {
   "cell_type": "code",
   "execution_count": 93,
   "metadata": {},
   "outputs": [],
   "source": [
    "text1,text2=message[0],message[1]\n",
    "dict1={}\n",
    "for i in [\"text1\",\"text2\"]:\n",
    "    dict1[i]=eval(i)"
   ]
  },
  {
   "cell_type": "code",
   "execution_count": 94,
   "metadata": {},
   "outputs": [
    {
     "data": {
      "text/plain": [
       "{'text1': 'hearts of oak 3-2 cotonsport hearts of oak set up an all ghanaian confederation cup final with a 3-2 win over cameroon s cotonsport garoua in accra on sunday.  the win for hearts means they will play asante kotoko in the two-leg final  after the kumasi team qualified from group a on saturday. in the other group b game cameroon s  beat  of south africa 3-2 in douala  neither side could have qualified for the final. hearts of oak started the game needing a win to qualify for the final while cotonsport only needed to avoid defeat to go through. louis agyemang scored the first two goals for hearts either side of half time before ben don bortey scored the third. hearts looked set for a comfortable win but cotonsport staged a late fight back scoring twice late on. first of all boukar makaji scored in the 89th minute and then 3 minutes into injury time at the end of the game andre nzame iii was on target. but it was too little too late for the cameroonians and hearts held on to win the game and a place in the final. the first leg of the final will be played in accra on the weekend of 27-28 november and the second leg two weeks later on the 11 december in kumasi. in the other group b game cameroon s sable batie took the lead in the 35th minute through kemadjou before santos equalised on the hour mark thanks to thokozani xaba . bernard ngom put sable ahead just five minutes later and then ernest nfor settled the game on 68 minutes. ruben cloete scored the south african sides consolation with just three minutes left on the clock.',\n",
       " 'text2': 'redford s vision of sundance despite sporting a corduroy cap pulled low over his face plus a pair of dark glasses  robert redford cuts an unmistakable figure through the star-struck crowds at sundance.  it s a rare downtown appearance for the man who started the annual festival in park city  utah back in the 1980s. now in its twenty-first year  sundance continues to grow. some 45 000 people are estimated to have descended on this small ski town with nothing but movies on the mind. it s an opportunity to meet and make deals. redford wanted sundance to be a platform for independent film-makers  but the commercial success of many showcased films have led to criticism that the festival is becoming too mainstream.  smaller festivals like slamdance and xdance  which take place during the same week in park city  are competing for sundance s limelight. but redford is not worried.  the more the merrier   he says.  the point was to create opportunities for people who may not have them.  once independent film had a place where the work could be seen  suddenly the merchants came. with them the celebrities came  then the paparazzi - and suddenly it began to take on a whole new tone   explains redford.   people started to say we had gone mainstream and hollywood  but actually hollywood came to us because suddenly there was good business in independent film   he adds. international film-makers have always been celebrated here  but 2005 is the first year a dedicated world dramatic and documentary competition is being held.  redford wants the festival to encompass viewpoints he believes the american media fails to reflect  particularly how the us is perceived internationally. he has never hidden the fact that he is a democrat. but he reserves particular disdain for the current republican administration.  it s the ability to maintain the importance of dissent in a democratic system which right now is under threat with the attitude of this administration   he says.  i think many voices are being shut down or accused of being unpatriotic if they want to express another point of view. that s very unhealthy and very dangerous.   if we take that policy into the world  there will be the same victims and the same consequences.  sundance isn t just one big screening. there are discussion panels and q&a sessions with directors tackling controversial topics like america s  culture wars  and the iraq war. while redford wishes the festival to be a forum for dissent  the profile of the audience is fairly monolithic. educated  middle class and predominantly white americans comes sundance  with views from the same end of the political spectrum - anti-war and socially liberal. but redford knows this and started the sundance tv channel in an effort to reach a wider audience.  when you look at the films here  what we are presenting is very much egalitarian. and it s about good films and good story-telling be it african america  asian  women  gay  lesbian.  sooner or later we will do away with those stereotypical labels and people will say  it s just a film by so-and so .'}"
      ]
     },
     "execution_count": 94,
     "metadata": {},
     "output_type": "execute_result"
    }
   ],
   "source": [
    "dict1"
   ]
  },
  {
   "cell_type": "code",
   "execution_count": 95,
   "metadata": {},
   "outputs": [],
   "source": [
    "ip = pd.DataFrame(dict1, index=[0])"
   ]
  },
  {
   "cell_type": "code",
   "execution_count": 96,
   "metadata": {},
   "outputs": [
    {
     "data": {
      "text/html": [
       "<div>\n",
       "<style scoped>\n",
       "    .dataframe tbody tr th:only-of-type {\n",
       "        vertical-align: middle;\n",
       "    }\n",
       "\n",
       "    .dataframe tbody tr th {\n",
       "        vertical-align: top;\n",
       "    }\n",
       "\n",
       "    .dataframe thead th {\n",
       "        text-align: right;\n",
       "    }\n",
       "</style>\n",
       "<table border=\"1\" class=\"dataframe\">\n",
       "  <thead>\n",
       "    <tr style=\"text-align: right;\">\n",
       "      <th></th>\n",
       "      <th>text1</th>\n",
       "      <th>text2</th>\n",
       "    </tr>\n",
       "  </thead>\n",
       "  <tbody>\n",
       "    <tr>\n",
       "      <th>0</th>\n",
       "      <td>hearts of oak 3-2 cotonsport hearts of oak set...</td>\n",
       "      <td>redford s vision of sundance despite sporting ...</td>\n",
       "    </tr>\n",
       "  </tbody>\n",
       "</table>\n",
       "</div>"
      ],
      "text/plain": [
       "                                               text1  \\\n",
       "0  hearts of oak 3-2 cotonsport hearts of oak set...   \n",
       "\n",
       "                                               text2  \n",
       "0  redford s vision of sundance despite sporting ...  "
      ]
     },
     "execution_count": 96,
     "metadata": {},
     "output_type": "execute_result"
    }
   ],
   "source": [
    "ip"
   ]
  },
  {
   "cell_type": "code",
   "execution_count": 97,
   "metadata": {},
   "outputs": [],
   "source": [
    "ans = []                                                        \n",
    "for i in range(len(ip)):\n",
    "    messages = [ip['text1'][i], ip['text2'][i]]              \n",
    "    message_embeddings = embed(messages)"
   ]
  },
  {
   "cell_type": "code",
   "execution_count": 98,
   "metadata": {},
   "outputs": [
    {
     "data": {
      "text/plain": [
       "<tf.Tensor: shape=(2, 512), dtype=float32, numpy=\n",
       "array([[-0.05639974, -0.06264024, -0.0618076 , ..., -0.04891912,\n",
       "        -0.06282157, -0.06282357],\n",
       "       [-0.01840757, -0.05694168,  0.05654133, ...,  0.00161635,\n",
       "         0.06120758,  0.03935125]], dtype=float32)>"
      ]
     },
     "execution_count": 98,
     "metadata": {},
     "output_type": "execute_result"
    }
   ],
   "source": [
    "message_embeddings"
   ]
  },
  {
   "cell_type": "code",
   "execution_count": 99,
   "metadata": {},
   "outputs": [],
   "source": [
    "a = tf.make_ndarray(tf.make_tensor_proto(message_embeddings))"
   ]
  },
  {
   "cell_type": "code",
   "execution_count": 100,
   "metadata": {},
   "outputs": [
    {
     "data": {
      "text/plain": [
       "array([[-0.05639974, -0.06264024, -0.0618076 , ..., -0.04891912,\n",
       "        -0.06282157, -0.06282357],\n",
       "       [-0.01840757, -0.05694168,  0.05654133, ...,  0.00161635,\n",
       "         0.06120758,  0.03935125]], dtype=float32)"
      ]
     },
     "execution_count": 100,
     "metadata": {},
     "output_type": "execute_result"
    }
   ],
   "source": [
    "a"
   ]
  },
  {
   "cell_type": "code",
   "execution_count": 101,
   "metadata": {},
   "outputs": [],
   "source": [
    "cos_sin = dot(a[0], a[1])/(norm(a[0])*norm(a[1]))"
   ]
  },
  {
   "cell_type": "code",
   "execution_count": 102,
   "metadata": {},
   "outputs": [
    {
     "data": {
      "text/plain": [
       "0.15746729"
      ]
     },
     "execution_count": 102,
     "metadata": {},
     "output_type": "execute_result"
    }
   ],
   "source": [
    "cos_sin"
   ]
  },
  {
   "cell_type": "code",
   "execution_count": 103,
   "metadata": {},
   "outputs": [
    {
     "data": {
      "text/plain": [
       "[0.15746729]"
      ]
     },
     "execution_count": 103,
     "metadata": {},
     "output_type": "execute_result"
    }
   ],
   "source": [
    "ans.append(cos_sin)\n",
    "ans"
   ]
  },
  {
   "cell_type": "code",
   "execution_count": 104,
   "metadata": {},
   "outputs": [
    {
     "data": {
      "text/html": [
       "<div>\n",
       "<style scoped>\n",
       "    .dataframe tbody tr th:only-of-type {\n",
       "        vertical-align: middle;\n",
       "    }\n",
       "\n",
       "    .dataframe tbody tr th {\n",
       "        vertical-align: top;\n",
       "    }\n",
       "\n",
       "    .dataframe thead th {\n",
       "        text-align: right;\n",
       "    }\n",
       "</style>\n",
       "<table border=\"1\" class=\"dataframe\">\n",
       "  <thead>\n",
       "    <tr style=\"text-align: right;\">\n",
       "      <th></th>\n",
       "      <th>similarity score</th>\n",
       "    </tr>\n",
       "  </thead>\n",
       "  <tbody>\n",
       "    <tr>\n",
       "      <th>0</th>\n",
       "      <td>0.157467</td>\n",
       "    </tr>\n",
       "  </tbody>\n",
       "</table>\n",
       "</div>"
      ],
      "text/plain": [
       "   similarity score\n",
       "0          0.157467"
      ]
     },
     "execution_count": 104,
     "metadata": {},
     "output_type": "execute_result"
    }
   ],
   "source": [
    "Ans = pd.DataFrame(ans, columns = ['similarity score'])\n",
    "Ans"
   ]
  },
  {
   "cell_type": "code",
   "execution_count": 105,
   "metadata": {},
   "outputs": [
    {
     "data": {
      "text/html": [
       "<div>\n",
       "<style scoped>\n",
       "    .dataframe tbody tr th:only-of-type {\n",
       "        vertical-align: middle;\n",
       "    }\n",
       "\n",
       "    .dataframe tbody tr th {\n",
       "        vertical-align: top;\n",
       "    }\n",
       "\n",
       "    .dataframe thead th {\n",
       "        text-align: right;\n",
       "    }\n",
       "</style>\n",
       "<table border=\"1\" class=\"dataframe\">\n",
       "  <thead>\n",
       "    <tr style=\"text-align: right;\">\n",
       "      <th></th>\n",
       "      <th>text1</th>\n",
       "      <th>text2</th>\n",
       "      <th>similarity score</th>\n",
       "    </tr>\n",
       "  </thead>\n",
       "  <tbody>\n",
       "    <tr>\n",
       "      <th>0</th>\n",
       "      <td>hearts of oak 3-2 cotonsport hearts of oak set...</td>\n",
       "      <td>redford s vision of sundance despite sporting ...</td>\n",
       "      <td>0.157467</td>\n",
       "    </tr>\n",
       "  </tbody>\n",
       "</table>\n",
       "</div>"
      ],
      "text/plain": [
       "                                               text1  \\\n",
       "0  hearts of oak 3-2 cotonsport hearts of oak set...   \n",
       "\n",
       "                                               text2  similarity score  \n",
       "0  redford s vision of sundance despite sporting ...          0.157467  "
      ]
     },
     "execution_count": 105,
     "metadata": {},
     "output_type": "execute_result"
    }
   ],
   "source": [
    "ip = ip.join(Ans)\n",
    "ip"
   ]
  },
  {
   "cell_type": "code",
   "execution_count": 88,
   "metadata": {},
   "outputs": [
    {
     "data": {
      "text/html": [
       "<div>\n",
       "<style scoped>\n",
       "    .dataframe tbody tr th:only-of-type {\n",
       "        vertical-align: middle;\n",
       "    }\n",
       "\n",
       "    .dataframe tbody tr th {\n",
       "        vertical-align: top;\n",
       "    }\n",
       "\n",
       "    .dataframe thead th {\n",
       "        text-align: right;\n",
       "    }\n",
       "</style>\n",
       "<table border=\"1\" class=\"dataframe\">\n",
       "  <thead>\n",
       "    <tr style=\"text-align: right;\">\n",
       "      <th></th>\n",
       "      <th>similarity score</th>\n",
       "    </tr>\n",
       "  </thead>\n",
       "  <tbody>\n",
       "    <tr>\n",
       "      <th>0</th>\n",
       "      <td>0.2</td>\n",
       "    </tr>\n",
       "  </tbody>\n",
       "</table>\n",
       "</div>"
      ],
      "text/plain": [
       "   similarity score\n",
       "0               0.2"
      ]
     },
     "execution_count": 88,
     "metadata": {},
     "output_type": "execute_result"
    }
   ],
   "source": [
    "ip['similarity score']= ip['similarity score'].round(decimals=1)\n",
    "ip[['similarity score']]"
   ]
  },
  {
   "cell_type": "code",
   "execution_count": 106,
   "metadata": {},
   "outputs": [],
   "source": [
    "ip['similarity score']= ip['similarity score'].apply(lambda x: round(x, 1))"
   ]
  },
  {
   "cell_type": "code",
   "execution_count": 107,
   "metadata": {},
   "outputs": [
    {
     "data": {
      "text/html": [
       "<div>\n",
       "<style scoped>\n",
       "    .dataframe tbody tr th:only-of-type {\n",
       "        vertical-align: middle;\n",
       "    }\n",
       "\n",
       "    .dataframe tbody tr th {\n",
       "        vertical-align: top;\n",
       "    }\n",
       "\n",
       "    .dataframe thead th {\n",
       "        text-align: right;\n",
       "    }\n",
       "</style>\n",
       "<table border=\"1\" class=\"dataframe\">\n",
       "  <thead>\n",
       "    <tr style=\"text-align: right;\">\n",
       "      <th></th>\n",
       "      <th>similarity score</th>\n",
       "    </tr>\n",
       "  </thead>\n",
       "  <tbody>\n",
       "    <tr>\n",
       "      <th>0</th>\n",
       "      <td>0.2</td>\n",
       "    </tr>\n",
       "  </tbody>\n",
       "</table>\n",
       "</div>"
      ],
      "text/plain": [
       "   similarity score\n",
       "0               0.2"
      ]
     },
     "execution_count": 107,
     "metadata": {},
     "output_type": "execute_result"
    }
   ],
   "source": [
    "ip[['similarity score']]"
   ]
  },
  {
   "cell_type": "code",
   "execution_count": 108,
   "metadata": {},
   "outputs": [
    {
     "data": {
      "text/plain": [
       "{'similarity score': [0.2]}"
      ]
     },
     "execution_count": 108,
     "metadata": {},
     "output_type": "execute_result"
    }
   ],
   "source": [
    "result=ip[['similarity score']].to_dict(\"list\")\n",
    "result"
   ]
  },
  {
   "cell_type": "code",
   "execution_count": 109,
   "metadata": {},
   "outputs": [
    {
     "data": {
      "text/plain": [
       "dict_items([('similarity score', [0.2])])"
      ]
     },
     "execution_count": 109,
     "metadata": {},
     "output_type": "execute_result"
    }
   ],
   "source": [
    "result.items()"
   ]
  },
  {
   "cell_type": "code",
   "execution_count": null,
   "metadata": {},
   "outputs": [],
   "source": []
  }
 ],
 "metadata": {
  "kernelspec": {
   "display_name": "Python 3",
   "language": "python",
   "name": "python3"
  },
  "language_info": {
   "codemirror_mode": {
    "name": "ipython",
    "version": 3
   },
   "file_extension": ".py",
   "mimetype": "text/x-python",
   "name": "python",
   "nbconvert_exporter": "python",
   "pygments_lexer": "ipython3",
   "version": "3.11.5"
  }
 },
 "nbformat": 4,
 "nbformat_minor": 2
}
